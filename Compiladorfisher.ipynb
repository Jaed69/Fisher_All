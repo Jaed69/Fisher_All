{
  "nbformat": 4,
  "nbformat_minor": 0,
  "metadata": {
    "colab": {
      "provenance": []
    },
    "kernelspec": {
      "name": "python3",
      "display_name": "Python 3"
    },
    "language_info": {
      "name": "python"
    }
  },
  "cells": [
    {
      "cell_type": "code",
      "execution_count": 3,
      "metadata": {
        "colab": {
          "base_uri": "https://localhost:8080/"
        },
        "id": "Vm6opaGQnFrK",
        "outputId": "ca08afb4-935e-4862-db02-e2d01438af92"
      },
      "outputs": [
        {
          "output_type": "stream",
          "name": "stdout",
          "text": [
            "Found existing installation: antlr4-python3-runtime 4.9.3\n",
            "Uninstalling antlr4-python3-runtime-4.9.3:\n",
            "  Successfully uninstalled antlr4-python3-runtime-4.9.3\n",
            "Collecting antlr4-python3-runtime==4.13.1\n",
            "  Downloading antlr4_python3_runtime-4.13.1-py3-none-any.whl.metadata (304 bytes)\n",
            "Downloading antlr4_python3_runtime-4.13.1-py3-none-any.whl (144 kB)\n",
            "\u001b[2K   \u001b[90m━━━━━━━━━━━━━━━━━━━━━━━━━━━━━━━━━━━━━━━━\u001b[0m \u001b[32m144.5/144.5 kB\u001b[0m \u001b[31m8.0 MB/s\u001b[0m eta \u001b[36m0:00:00\u001b[0m\n",
            "\u001b[?25hInstalling collected packages: antlr4-python3-runtime\n",
            "\u001b[31mERROR: pip's dependency resolver does not currently take into account all the packages that are installed. This behaviour is the source of the following dependency conflicts.\n",
            "omegaconf 2.3.0 requires antlr4-python3-runtime==4.9.*, but you have antlr4-python3-runtime 4.13.1 which is incompatible.\u001b[0m\u001b[31m\n",
            "\u001b[0mSuccessfully installed antlr4-python3-runtime-4.13.1\n"
          ]
        }
      ],
      "source": [
        "!pip uninstall antlr4-python3-runtime -y\n",
        "!pip install antlr4-python3-runtime==4.13.1"
      ]
    },
    {
      "cell_type": "code",
      "source": [
        "# Descarga la versión compatible de ANTLR\n",
        "!curl -O https://www.antlr.org/download/antlr-4.13.1-complete.jar"
      ],
      "metadata": {
        "colab": {
          "base_uri": "https://localhost:8080/"
        },
        "id": "EbWpXh0WnbU1",
        "outputId": "bc9fed2f-ecaf-4d8a-d80c-63b7a27c0b7f"
      },
      "execution_count": 4,
      "outputs": [
        {
          "output_type": "stream",
          "name": "stdout",
          "text": [
            "  % Total    % Received % Xferd  Average Speed   Time    Time     Time  Current\n",
            "                                 Dload  Upload   Total   Spent    Left  Speed\n",
            "\r  0     0    0     0    0     0      0      0 --:--:-- --:--:-- --:--:--     0\r  0     0    0     0    0     0      0      0 --:--:-- --:--:-- --:--:--     0\r100 2089k  100 2089k    0     0  8773k      0 --:--:-- --:--:-- --:--:-- 8777k\n"
          ]
        }
      ]
    },
    {
      "cell_type": "code",
      "source": [
        "import numpy as np\n",
        "import pandas as pd\n",
        "from antlr4 import *"
      ],
      "metadata": {
        "id": "tXncAmTtnjKV"
      },
      "execution_count": 5,
      "outputs": []
    },
    {
      "cell_type": "code",
      "source": [
        "# Definición de la tabla de símbolos como un diccionario\n",
        "class SymbolTable:\n",
        "    def __init__(self):\n",
        "        self.symbols = {}\n",
        "\n",
        "    def declare(self, id, type_, value):\n",
        "        \"\"\"Declarar una nueva variable en la tabla de símbolos\"\"\"\n",
        "        self.symbols[id] = {'type': type_, 'value': value}\n",
        "\n",
        "    def get_value(self, id):\n",
        "        \"\"\"Obtener el valor de una variable\"\"\"\n",
        "        return self.symbols.get(id, {}).get('value', None)\n",
        "\n",
        "    def update(self, id, value):\n",
        "        \"\"\"Actualizar el valor de una variable\"\"\"\n",
        "        if id in self.symbols:\n",
        "            self.symbols[id]['value'] = value\n",
        "        else:\n",
        "            raise ValueError(f\"Variable '{id}' no definida\")\n",
        "\n",
        "    def __str__(self):\n",
        "        return str(self.symbols)\n",
        "\n"
      ],
      "metadata": {
        "id": "Jgh8E4aRn3hy"
      },
      "execution_count": 6,
      "outputs": []
    },
    {
      "cell_type": "code",
      "source": [
        "# Crear una instancia de la tabla de símbolos\n",
        "symbol_table = SymbolTable()\n",
        "\n",
        "# Declaración de variables (ejemplo)\n",
        "symbol_table.declare('horas_trabajadas', 'float', 180)\n",
        "symbol_table.declare('proyectos_completados', 'int', 3)\n",
        "symbol_table.declare('errores_cometidos', 'int', 2)\n",
        "symbol_table.declare('evaluacion_supervisor', 'float', 7.5)\n",
        "symbol_table.declare('puntualidad', 'float', 85)"
      ],
      "metadata": {
        "id": "ngRvpOjKn4vr"
      },
      "execution_count": 7,
      "outputs": []
    },
    {
      "cell_type": "code",
      "source": [
        "# Funciones estadísticas\n",
        "\n",
        "def calcular_media(*args):\n",
        "    \"\"\"Calcular la media de un conjunto de valores\"\"\"\n",
        "    return np.mean(args)\n",
        "\n",
        "def calcular_varianza(*args):\n",
        "    \"\"\"Calcular la varianza de un conjunto de valores\"\"\"\n",
        "    return np.var(args)\n",
        "\n",
        "def calcular_coef_fisher(varianza_1, varianza_2):\n",
        "    \"\"\"Calcular el coeficiente de Fisher\"\"\"\n",
        "    return varianza_1 / varianza_2 if varianza_2 != 0 else None\n"
      ],
      "metadata": {
        "id": "A3F_0WG-n-2Q"
      },
      "execution_count": 8,
      "outputs": []
    },
    {
      "cell_type": "code",
      "source": [
        "# Calcular las estadísticas para las variables en la tabla de símbolos\n",
        "horas_trabajadas = symbol_table.get_value('horas_trabajadas')\n",
        "proyectos_completados = symbol_table.get_value('proyectos_completados')\n",
        "errores_cometidos = symbol_table.get_value('errores_cometidos')\n",
        "evaluacion_supervisor = symbol_table.get_value('evaluacion_supervisor')\n",
        "puntualidad = symbol_table.get_value('puntualidad')"
      ],
      "metadata": {
        "id": "JoUPptd7oAx7"
      },
      "execution_count": 9,
      "outputs": []
    },
    {
      "cell_type": "code",
      "source": [
        "# Imprimir la tabla de símbolos\n",
        "print(\"\\nTabla de símbolos:\")\n",
        "print(symbol_table)"
      ],
      "metadata": {
        "colab": {
          "base_uri": "https://localhost:8080/"
        },
        "id": "6m-jkfn7oTMg",
        "outputId": "83fffda8-fdf9-4cee-e044-940ee6e7c89c"
      },
      "execution_count": 10,
      "outputs": [
        {
          "output_type": "stream",
          "name": "stdout",
          "text": [
            "\n",
            "Tabla de símbolos:\n",
            "{'horas_trabajadas': {'type': 'float', 'value': 180}, 'proyectos_completados': {'type': 'int', 'value': 3}, 'errores_cometidos': {'type': 'int', 'value': 2}, 'evaluacion_supervisor': {'type': 'float', 'value': 7.5}, 'puntualidad': {'type': 'float', 'value': 85}}\n"
          ]
        }
      ]
    },
    {
      "cell_type": "markdown",
      "source": [
        "EJEMPLO CON ANTLR"
      ],
      "metadata": {
        "id": "eJtdnoUlprgz"
      }
    },
    {
      "cell_type": "code",
      "source": [
        "grammar = \"\"\"\n",
        "grammar EmployeeEval;\n",
        "\n",
        "// Reglas del Parser\n",
        "program      : (declaration | function)+ EOF;\n",
        "declaration  : TYPE ID '=' expr ';' ;\n",
        "function     : FUNC TYPE ID '(' paramList? ')' block ;\n",
        "paramList    : param (',' param)* ;\n",
        "param        : TYPE ID ;\n",
        "block        : '{' statement* '}' ;\n",
        "statement    : expr ';'\n",
        "             | declaration\n",
        "             | COMMENT ;\n",
        "expr         : ID                                // Variable\n",
        "             | NUMBER                            // Número constante\n",
        "             | STRING                            // Cadena\n",
        "             | expr '+' expr                     // Suma\n",
        "             | expr '-' expr                     // Resta\n",
        "             | expr '*' expr                     // Multiplicación\n",
        "             | expr '/' expr                     // División\n",
        "             | 'mean' '(' expr (',' expr)* ')'    // Media\n",
        "             | 'variance' '(' expr (',' expr)* ')' // Varianza\n",
        "             | 'stddev' '(' expr (',' expr)* ')'   // Desviación estándar\n",
        "             | 'fisher' '(' expr (',' expr)* ')'   // Coeficiente de Fisher\n",
        "             ;\n",
        "\n",
        "\n",
        "TYPE         : 'int' | 'float' | 'string' ;     // Tipos de datos\n",
        "FUNC         : 'func' ;                         // Definición de funciones\n",
        "ID           : [a-zA-Z_][a-zA-Z_0-9]* ;         // Identificadores (variables y funciones)\n",
        "NUMBER       : [0-9]+ ('.' [0-9]+)? ;           // Números (enteros o decimales)\n",
        "STRING       : '\"' .*? '\"' ;                    // Cadenas de texto\n",
        "WS          : [ \\\\t\\\\r\\\\n]+ -> skip ;\n",
        "COMMENT : \\'//\\' ~[\\\\r\\\\n]* -> skip ;\n",
        "\"\"\"\n",
        "with open(\"EmployeeEval.g4\", \"w\") as f:\n",
        "  f.write(grammar)\n"
      ],
      "metadata": {
        "id": "Kp3DTlwDpye1"
      },
      "execution_count": 11,
      "outputs": []
    },
    {
      "cell_type": "code",
      "source": [
        "# Regenera los parsers\n",
        "!java -jar antlr-4.13.1-complete.jar -Dlanguage=Python3 -listener -visitor EmployeeEval.g4"
      ],
      "metadata": {
        "id": "Vr40LxT_qQNK"
      },
      "execution_count": 12,
      "outputs": []
    },
    {
      "cell_type": "code",
      "source": [
        "input_data = \"\"\"\n",
        "float horas_trabajadas = 180;\n",
        "int proyectos_completados = 3;\n",
        "int errores_cometidos = 2;\n",
        "float evaluacion_supervisor = 7.5;\n",
        "float puntualidad = 85;\n",
        "\n",
        "mean(horas_trabajadas, proyectos_completados, errores_cometidos, evaluacion_supervisor);\n",
        "variance(horas_trabajadas, proyectos_completados, errores_cometidos, evaluacion_supervisor);\n",
        "stddev(horas_trabajadas, proyectos_completados, errores_cometidos, evaluacion_supervisor);\n",
        "fisher(horas_trabajadas, proyectos_completados, errores_cometidos, evaluacion_supervisor);\n",
        "\n",
        "\"\"\"\n"
      ],
      "metadata": {
        "id": "jYI29FHN1cEZ"
      },
      "execution_count": 13,
      "outputs": []
    },
    {
      "cell_type": "code",
      "source": [
        "# Ahora importar los módulos generados\n",
        "from EmployeeEvalLexer import EmployeeEvalLexer\n",
        "from EmployeeEvalParser import EmployeeEvalParser\n",
        "from EmployeeEvalListener import EmployeeEvalListener\n",
        "\n",
        "# Definición mejorada de la tabla de símbolos\n",
        "class SymbolTable:\n",
        "    def __init__(self):\n",
        "        self.symbols = {}\n",
        "\n",
        "    def declare(self, id, type_, value=None):\n",
        "        \"\"\"Declarar una nueva variable en la tabla de símbolos\"\"\"\n",
        "        self.symbols[id] = {'type': type_, 'value': value}\n",
        "\n",
        "    def get_value(self, id):\n",
        "        \"\"\"Obtener el valor de una variable\"\"\"\n",
        "        return self.symbols.get(id, {}).get('value', None)\n",
        "\n",
        "    def update(self, id, value):\n",
        "        \"\"\"Actualizar el valor de una variable\"\"\"\n",
        "        if id in self.symbols:\n",
        "            self.symbols[id]['value'] = value\n",
        "        else:\n",
        "            raise ValueError(f\"Variable '{id}' no definida\")\n",
        "\n",
        "    def __str__(self):\n",
        "        return \"\\n\".join([f\"{name}: {details['type']} = {details['value']}\"\n",
        "                         for name, details in self.symbols.items()])\n"
      ],
      "metadata": {
        "id": "VuVq2ynYqULj"
      },
      "execution_count": 14,
      "outputs": []
    },
    {
      "cell_type": "code",
      "source": [
        "# Listener mejorado\n",
        "class EvalListener(EmployeeEvalListener):\n",
        "    def __init__(self):\n",
        "        self.symbol_table = SymbolTable()\n",
        "        self.current_value = None\n",
        "\n",
        "    def enterDeclaration(self, ctx):\n",
        "        var_name = ctx.ID().getText()\n",
        "        var_type = ctx.TYPE().getText()\n",
        "        value = self.evaluate_expr(ctx.expr())\n",
        "        self.symbol_table.declare(var_name, var_type, value)\n",
        "\n",
        "    def evaluate_expr(self, ctx):\n",
        "        if ctx.getChildCount() == 1:  # Número, variable o cadena\n",
        "            child = ctx.getChild(0)\n",
        "            if isinstance(child, TerminalNode):\n",
        "                text = child.getText()\n",
        "                if child.getSymbol().type == EmployeeEvalLexer.NUMBER:\n",
        "                    return float(text) if '.' in text else int(text)\n",
        "                elif child.getSymbol().type == EmployeeEvalLexer.ID:\n",
        "                    return self.symbol_table.get_value(text)\n",
        "                elif child.getSymbol().type == EmployeeEvalLexer.STRING:\n",
        "                    return text.strip('\"')\n",
        "        elif ctx.getChildCount() == 3:  # Operación binaria o paréntesis\n",
        "            if ctx.getChild(0).getText() == '(':\n",
        "                return self.evaluate_expr(ctx.getChild(1))\n",
        "            else:\n",
        "                left = self.evaluate_expr(ctx.getChild(0))\n",
        "                right = self.evaluate_expr(ctx.getChild(2))\n",
        "                op = ctx.getChild(1).getText()\n",
        "                if op == '+': return left + right\n",
        "                if op == '-': return left - right\n",
        "                if op == '*': return left * right\n",
        "                if op == '/': return left / right\n",
        "        elif ctx.getChildCount() > 3:  # Función estadística\n",
        "            func_name = ctx.getChild(0).getText()\n",
        "            args = []\n",
        "            for i in range(2, ctx.getChildCount()-1, 2):  # Saltar comas\n",
        "                args.append(self.evaluate_expr(ctx.getChild(i)))\n",
        "\n",
        "            if func_name == 'mean':\n",
        "                return np.mean(args)\n",
        "            elif func_name == 'variance':\n",
        "                return np.var(args)\n",
        "            elif func_name == 'stddev':\n",
        "                return np.std(args)\n",
        "            elif func_name == 'fisher':\n",
        "                n = len(args)\n",
        "                mean = np.mean(args)\n",
        "                stddev = np.std(args)\n",
        "                return np.sum([(x - mean)**3 for x in args]) / (n * stddev**3)\n",
        "        return None\n",
        "\n",
        "    def exitExpr(self, ctx):\n",
        "        if ctx.parentCtx and isinstance(ctx.parentCtx, EmployeeEvalParser.StatementContext):\n",
        "            result = self.evaluate_expr(ctx)\n",
        "            if result is not None:\n",
        "                print(f\"Resultado: {result}\")"
      ],
      "metadata": {
        "id": "VcujG2ZcWo2P"
      },
      "execution_count": 15,
      "outputs": []
    },
    {
      "cell_type": "code",
      "source": [
        "# Procesamiento\n",
        "lexer = EmployeeEvalLexer(InputStream(input_data))\n",
        "tokens = CommonTokenStream(lexer)\n",
        "parser = EmployeeEvalParser(tokens)\n",
        "tree = parser.program()\n",
        "\n",
        "listener = EvalListener()\n",
        "walker = ParseTreeWalker()\n",
        "walker.walk(listener, tree)"
      ],
      "metadata": {
        "colab": {
          "base_uri": "https://localhost:8080/"
        },
        "id": "CYUFSiyzWtHH",
        "outputId": "b98bd0fc-a263-44b0-e60c-3335949c4e04"
      },
      "execution_count": 16,
      "outputs": [
        {
          "output_type": "stream",
          "name": "stderr",
          "text": [
            "line 8:0 extraneous input 'mean' expecting {<EOF>, TYPE, 'func'}\n"
          ]
        }
      ]
    },
    {
      "cell_type": "code",
      "source": [
        "# Mostrar resultados finales\n",
        "print(\"\\nTabla de símbolos final:\")\n",
        "print(listener.symbol_table)"
      ],
      "metadata": {
        "colab": {
          "base_uri": "https://localhost:8080/"
        },
        "id": "PXXDX7VlWvCN",
        "outputId": "9a5c3eae-61ef-4fb2-8951-4ecfe17e48ff"
      },
      "execution_count": 17,
      "outputs": [
        {
          "output_type": "stream",
          "name": "stdout",
          "text": [
            "\n",
            "Tabla de símbolos final:\n",
            "horas_trabajadas: float = 180\n",
            "proyectos_completados: int = 3\n",
            "errores_cometidos: int = 2\n",
            "evaluacion_supervisor: float = 7.5\n",
            "puntualidad: float = 85\n"
          ]
        }
      ]
    }
  ]
}